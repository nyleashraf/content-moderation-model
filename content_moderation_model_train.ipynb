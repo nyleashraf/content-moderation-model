{
  "nbformat": 4,
  "nbformat_minor": 0,
  "metadata": {
    "colab": {
      "name": "content_moderation_model_train.ipynb",
      "provenance": [],
      "collapsed_sections": [],
      "include_colab_link": true
    },
    "kernelspec": {
      "name": "python3",
      "display_name": "Python 3"
    },
    "accelerator": "GPU",
    "widgets": {
      "application/vnd.jupyter.widget-state+json": {
        "4b21d95bd79e43cdb83b275d1da3af4e": {
          "model_module": "@jupyter-widgets/controls",
          "model_name": "HBoxModel",
          "state": {
            "_view_name": "HBoxView",
            "_dom_classes": [],
            "_model_name": "HBoxModel",
            "_view_module": "@jupyter-widgets/controls",
            "_model_module_version": "1.5.0",
            "_view_count": null,
            "_view_module_version": "1.5.0",
            "box_style": "",
            "layout": "IPY_MODEL_61f1551351c04a279a16a4af4b6b114b",
            "_model_module": "@jupyter-widgets/controls",
            "children": [
              "IPY_MODEL_0c05a9554e174070bfac5ecd28bdc997",
              "IPY_MODEL_e6e5bdc9f4c24f2d99537f770c91e469"
            ]
          }
        },
        "61f1551351c04a279a16a4af4b6b114b": {
          "model_module": "@jupyter-widgets/base",
          "model_name": "LayoutModel",
          "state": {
            "_view_name": "LayoutView",
            "grid_template_rows": null,
            "right": null,
            "justify_content": null,
            "_view_module": "@jupyter-widgets/base",
            "overflow": null,
            "_model_module_version": "1.2.0",
            "_view_count": null,
            "flex_flow": null,
            "width": null,
            "min_width": null,
            "border": null,
            "align_items": null,
            "bottom": null,
            "_model_module": "@jupyter-widgets/base",
            "top": null,
            "grid_column": null,
            "overflow_y": null,
            "overflow_x": null,
            "grid_auto_flow": null,
            "grid_area": null,
            "grid_template_columns": null,
            "flex": null,
            "_model_name": "LayoutModel",
            "justify_items": null,
            "grid_row": null,
            "max_height": null,
            "align_content": null,
            "visibility": null,
            "align_self": null,
            "height": null,
            "min_height": null,
            "padding": null,
            "grid_auto_rows": null,
            "grid_gap": null,
            "max_width": null,
            "order": null,
            "_view_module_version": "1.2.0",
            "grid_template_areas": null,
            "object_position": null,
            "object_fit": null,
            "grid_auto_columns": null,
            "margin": null,
            "display": null,
            "left": null
          }
        },
        "0c05a9554e174070bfac5ecd28bdc997": {
          "model_module": "@jupyter-widgets/controls",
          "model_name": "FloatProgressModel",
          "state": {
            "_view_name": "ProgressView",
            "style": "IPY_MODEL_2b98284fa42a4e62bd91ef673703888b",
            "_dom_classes": [],
            "description": "100%",
            "_model_name": "FloatProgressModel",
            "bar_style": "success",
            "max": 87306240,
            "_view_module": "@jupyter-widgets/controls",
            "_model_module_version": "1.5.0",
            "value": 87306240,
            "_view_count": null,
            "_view_module_version": "1.5.0",
            "orientation": "horizontal",
            "min": 0,
            "description_tooltip": null,
            "_model_module": "@jupyter-widgets/controls",
            "layout": "IPY_MODEL_dc8eac15a47548a593a759ad0e9937a4"
          }
        },
        "e6e5bdc9f4c24f2d99537f770c91e469": {
          "model_module": "@jupyter-widgets/controls",
          "model_name": "HTMLModel",
          "state": {
            "_view_name": "HTMLView",
            "style": "IPY_MODEL_c3dee5684a7b4f33934120abdc16f1a9",
            "_dom_classes": [],
            "description": "",
            "_model_name": "HTMLModel",
            "placeholder": "​",
            "_view_module": "@jupyter-widgets/controls",
            "_model_module_version": "1.5.0",
            "value": " 83.3M/83.3M [7:37:33&lt;00:00, 3.18kB/s]",
            "_view_count": null,
            "_view_module_version": "1.5.0",
            "description_tooltip": null,
            "_model_module": "@jupyter-widgets/controls",
            "layout": "IPY_MODEL_478a20c3f26c4c6884e72976f6b06dc1"
          }
        },
        "2b98284fa42a4e62bd91ef673703888b": {
          "model_module": "@jupyter-widgets/controls",
          "model_name": "ProgressStyleModel",
          "state": {
            "_view_name": "StyleView",
            "_model_name": "ProgressStyleModel",
            "description_width": "initial",
            "_view_module": "@jupyter-widgets/base",
            "_model_module_version": "1.5.0",
            "_view_count": null,
            "_view_module_version": "1.2.0",
            "bar_color": null,
            "_model_module": "@jupyter-widgets/controls"
          }
        },
        "dc8eac15a47548a593a759ad0e9937a4": {
          "model_module": "@jupyter-widgets/base",
          "model_name": "LayoutModel",
          "state": {
            "_view_name": "LayoutView",
            "grid_template_rows": null,
            "right": null,
            "justify_content": null,
            "_view_module": "@jupyter-widgets/base",
            "overflow": null,
            "_model_module_version": "1.2.0",
            "_view_count": null,
            "flex_flow": null,
            "width": null,
            "min_width": null,
            "border": null,
            "align_items": null,
            "bottom": null,
            "_model_module": "@jupyter-widgets/base",
            "top": null,
            "grid_column": null,
            "overflow_y": null,
            "overflow_x": null,
            "grid_auto_flow": null,
            "grid_area": null,
            "grid_template_columns": null,
            "flex": null,
            "_model_name": "LayoutModel",
            "justify_items": null,
            "grid_row": null,
            "max_height": null,
            "align_content": null,
            "visibility": null,
            "align_self": null,
            "height": null,
            "min_height": null,
            "padding": null,
            "grid_auto_rows": null,
            "grid_gap": null,
            "max_width": null,
            "order": null,
            "_view_module_version": "1.2.0",
            "grid_template_areas": null,
            "object_position": null,
            "object_fit": null,
            "grid_auto_columns": null,
            "margin": null,
            "display": null,
            "left": null
          }
        },
        "c3dee5684a7b4f33934120abdc16f1a9": {
          "model_module": "@jupyter-widgets/controls",
          "model_name": "DescriptionStyleModel",
          "state": {
            "_view_name": "StyleView",
            "_model_name": "DescriptionStyleModel",
            "description_width": "",
            "_view_module": "@jupyter-widgets/base",
            "_model_module_version": "1.5.0",
            "_view_count": null,
            "_view_module_version": "1.2.0",
            "_model_module": "@jupyter-widgets/controls"
          }
        },
        "478a20c3f26c4c6884e72976f6b06dc1": {
          "model_module": "@jupyter-widgets/base",
          "model_name": "LayoutModel",
          "state": {
            "_view_name": "LayoutView",
            "grid_template_rows": null,
            "right": null,
            "justify_content": null,
            "_view_module": "@jupyter-widgets/base",
            "overflow": null,
            "_model_module_version": "1.2.0",
            "_view_count": null,
            "flex_flow": null,
            "width": null,
            "min_width": null,
            "border": null,
            "align_items": null,
            "bottom": null,
            "_model_module": "@jupyter-widgets/base",
            "top": null,
            "grid_column": null,
            "overflow_y": null,
            "overflow_x": null,
            "grid_auto_flow": null,
            "grid_area": null,
            "grid_template_columns": null,
            "flex": null,
            "_model_name": "LayoutModel",
            "justify_items": null,
            "grid_row": null,
            "max_height": null,
            "align_content": null,
            "visibility": null,
            "align_self": null,
            "height": null,
            "min_height": null,
            "padding": null,
            "grid_auto_rows": null,
            "grid_gap": null,
            "max_width": null,
            "order": null,
            "_view_module_version": "1.2.0",
            "grid_template_areas": null,
            "object_position": null,
            "object_fit": null,
            "grid_auto_columns": null,
            "margin": null,
            "display": null,
            "left": null
          }
        }
      }
    }
  },
  "cells": [
    {
      "cell_type": "markdown",
      "metadata": {
        "id": "view-in-github",
        "colab_type": "text"
      },
      "source": [
        "<a href=\"https://colab.research.google.com/github/nyleashraf/content-moderation-model/blob/master/content_moderation_model_train.ipynb\" target=\"_parent\"><img src=\"https://colab.research.google.com/assets/colab-badge.svg\" alt=\"Open In Colab\"/></a>"
      ]
    },
    {
      "cell_type": "markdown",
      "metadata": {
        "id": "6ATuJkiXl9ce",
        "colab_type": "text"
      },
      "source": [
        "# Image Classification Model Training: Introduction \n",
        "\n",
        "This project aims to utilize transfer learning to correctly identify images as either offensive, suggestive, or neutral. In this notebook, we utilize PyTorch to read in our image data, import a pre-trained ResNet model with custom fully-connected layers, and perform training, validation, and testing on our model. The overall goal of this project is to understand the challenges associated with the automation of content moderation and learn how to utilize transfer learning with PyTorch."
      ]
    },
    {
      "cell_type": "code",
      "metadata": {
        "id": "dHG5W9cPI_zv",
        "colab_type": "code",
        "colab": {
          "base_uri": "https://localhost:8080/",
          "height": 955
        },
        "outputId": "04e7ac7e-5354-43b2-db20-78a63b8b526b"
      },
      "source": [
        "!cat /proc/cpuinfo"
      ],
      "execution_count": null,
      "outputs": [
        {
          "output_type": "stream",
          "text": [
            "processor\t: 0\n",
            "vendor_id\t: GenuineIntel\n",
            "cpu family\t: 6\n",
            "model\t\t: 63\n",
            "model name\t: Intel(R) Xeon(R) CPU @ 2.30GHz\n",
            "stepping\t: 0\n",
            "microcode\t: 0x1\n",
            "cpu MHz\t\t: 2300.000\n",
            "cache size\t: 46080 KB\n",
            "physical id\t: 0\n",
            "siblings\t: 2\n",
            "core id\t\t: 0\n",
            "cpu cores\t: 1\n",
            "apicid\t\t: 0\n",
            "initial apicid\t: 0\n",
            "fpu\t\t: yes\n",
            "fpu_exception\t: yes\n",
            "cpuid level\t: 13\n",
            "wp\t\t: yes\n",
            "flags\t\t: fpu vme de pse tsc msr pae mce cx8 apic sep mtrr pge mca cmov pat pse36 clflush mmx fxsr sse sse2 ss ht syscall nx pdpe1gb rdtscp lm constant_tsc rep_good nopl xtopology nonstop_tsc cpuid tsc_known_freq pni pclmulqdq ssse3 fma cx16 pcid sse4_1 sse4_2 x2apic movbe popcnt aes xsave avx f16c rdrand hypervisor lahf_lm abm invpcid_single ssbd ibrs ibpb stibp fsgsbase tsc_adjust bmi1 avx2 smep bmi2 erms invpcid xsaveopt arat md_clear arch_capabilities\n",
            "bugs\t\t: cpu_meltdown spectre_v1 spectre_v2 spec_store_bypass l1tf mds swapgs itlb_multihit\n",
            "bogomips\t: 4600.00\n",
            "clflush size\t: 64\n",
            "cache_alignment\t: 64\n",
            "address sizes\t: 46 bits physical, 48 bits virtual\n",
            "power management:\n",
            "\n",
            "processor\t: 1\n",
            "vendor_id\t: GenuineIntel\n",
            "cpu family\t: 6\n",
            "model\t\t: 63\n",
            "model name\t: Intel(R) Xeon(R) CPU @ 2.30GHz\n",
            "stepping\t: 0\n",
            "microcode\t: 0x1\n",
            "cpu MHz\t\t: 2300.000\n",
            "cache size\t: 46080 KB\n",
            "physical id\t: 0\n",
            "siblings\t: 2\n",
            "core id\t\t: 0\n",
            "cpu cores\t: 1\n",
            "apicid\t\t: 1\n",
            "initial apicid\t: 1\n",
            "fpu\t\t: yes\n",
            "fpu_exception\t: yes\n",
            "cpuid level\t: 13\n",
            "wp\t\t: yes\n",
            "flags\t\t: fpu vme de pse tsc msr pae mce cx8 apic sep mtrr pge mca cmov pat pse36 clflush mmx fxsr sse sse2 ss ht syscall nx pdpe1gb rdtscp lm constant_tsc rep_good nopl xtopology nonstop_tsc cpuid tsc_known_freq pni pclmulqdq ssse3 fma cx16 pcid sse4_1 sse4_2 x2apic movbe popcnt aes xsave avx f16c rdrand hypervisor lahf_lm abm invpcid_single ssbd ibrs ibpb stibp fsgsbase tsc_adjust bmi1 avx2 smep bmi2 erms invpcid xsaveopt arat md_clear arch_capabilities\n",
            "bugs\t\t: cpu_meltdown spectre_v1 spectre_v2 spec_store_bypass l1tf mds swapgs itlb_multihit\n",
            "bogomips\t: 4600.00\n",
            "clflush size\t: 64\n",
            "cache_alignment\t: 64\n",
            "address sizes\t: 46 bits physical, 48 bits virtual\n",
            "power management:\n",
            "\n"
          ],
          "name": "stdout"
        }
      ]
    },
    {
      "cell_type": "code",
      "metadata": {
        "id": "FyQszChf-usF",
        "colab_type": "code",
        "colab": {
          "base_uri": "https://localhost:8080/",
          "height": 34
        },
        "outputId": "6c416c78-8fe4-4bbd-d7ce-483ea9b2983c"
      },
      "source": [
        "from google.colab import drive\n",
        "drive.mount('/content/drive')"
      ],
      "execution_count": null,
      "outputs": [
        {
          "output_type": "stream",
          "text": [
            "Drive already mounted at /content/drive; to attempt to forcibly remount, call drive.mount(\"/content/drive\", force_remount=True).\n"
          ],
          "name": "stdout"
        }
      ]
    },
    {
      "cell_type": "code",
      "metadata": {
        "id": "6JefbDyQ7hj7",
        "colab_type": "code",
        "colab": {
          "base_uri": "https://localhost:8080/",
          "height": 187
        },
        "outputId": "206f137c-1226-460a-d7a5-7c9c05b7f393"
      },
      "source": [
        "!pip show torch"
      ],
      "execution_count": null,
      "outputs": [
        {
          "output_type": "stream",
          "text": [
            "Name: torch\n",
            "Version: 1.5.1+cu101\n",
            "Summary: Tensors and Dynamic neural networks in Python with strong GPU acceleration\n",
            "Home-page: https://pytorch.org/\n",
            "Author: PyTorch Team\n",
            "Author-email: packages@pytorch.org\n",
            "License: BSD-3\n",
            "Location: /usr/local/lib/python3.6/dist-packages\n",
            "Requires: future, numpy\n",
            "Required-by: torchvision, torchtext, fastai\n"
          ],
          "name": "stdout"
        }
      ]
    },
    {
      "cell_type": "code",
      "metadata": {
        "id": "YDsqpDpE7C4s",
        "colab_type": "code",
        "colab": {
          "base_uri": "https://localhost:8080/",
          "height": 187
        },
        "outputId": "565cff33-bcc3-4ef1-967f-ac92e5f691bf"
      },
      "source": [
        "!pip show torchvision"
      ],
      "execution_count": null,
      "outputs": [
        {
          "output_type": "stream",
          "text": [
            "Name: torchvision\n",
            "Version: 0.6.1+cu101\n",
            "Summary: image and video datasets and models for torch deep learning\n",
            "Home-page: https://github.com/pytorch/vision\n",
            "Author: PyTorch Core Team\n",
            "Author-email: soumith@pytorch.org\n",
            "License: BSD\n",
            "Location: /usr/local/lib/python3.6/dist-packages\n",
            "Requires: torch, pillow, numpy\n",
            "Required-by: fastai\n"
          ],
          "name": "stdout"
        }
      ]
    },
    {
      "cell_type": "code",
      "metadata": {
        "id": "Y2dbe-pGZE7z",
        "colab_type": "code",
        "colab": {
          "base_uri": "https://localhost:8080/",
          "height": 71
        },
        "outputId": "b2e142e8-210a-4359-e10b-450b11b6d1d9"
      },
      "source": [
        "import seaborn as sns\n",
        "# PyTorch\n",
        "from torchvision import transforms, datasets, models\n",
        "from torchvision.datasets import ImageFolder\n",
        "import torch\n",
        "from torch import optim, cuda\n",
        "from torch.utils.data import DataLoader, sampler, random_split\n",
        "import torch.nn as nn\n",
        "\n",
        "import warnings\n",
        "warnings.filterwarnings('ignore', category=FutureWarning)\n",
        "\n",
        "# Data science tools\n",
        "import numpy as np\n",
        "import pandas as pd\n",
        "import os\n",
        "\n",
        "# Image manipulations\n",
        "from PIL import Image\n",
        "# Useful for examining network\n",
        "from torchsummary import summary\n",
        "# Timing utility\n",
        "from timeit import default_timer as timer\n",
        "\n",
        "# Visualizations\n",
        "import matplotlib.pyplot as plt\n",
        "%matplotlib inline\n",
        "plt.rcParams['font.size'] = 14"
      ],
      "execution_count": null,
      "outputs": [
        {
          "output_type": "stream",
          "text": [
            "/usr/local/lib/python3.6/dist-packages/statsmodels/tools/_testing.py:19: FutureWarning: pandas.util.testing is deprecated. Use the functions in the public API at pandas.testing instead.\n",
            "  import pandas.util.testing as tm\n"
          ],
          "name": "stderr"
        }
      ]
    },
    {
      "cell_type": "markdown",
      "metadata": {
        "id": "BBqm2zuWV33E",
        "colab_type": "text"
      },
      "source": [
        "# Data Pre-Processing\n",
        "\n",
        "In this section, we use the ImageFolder and Dataloader objects to read in our image files from their current directory and transform the files for use in the pre-trained Resnet-34 model."
      ]
    },
    {
      "cell_type": "code",
      "metadata": {
        "id": "QCMYWt7O73V6",
        "colab_type": "code",
        "colab": {}
      },
      "source": [
        "train_file_path = '/content/drive/My Drive/content-moderation-model/train'\n",
        "test_file_path = '/content/drive/My Drive/content-moderation-model/test'\n",
        "\n",
        "save_file_name = 'cmm-resnet34-transfer.pt'\n",
        "checkpoint_path = 'cmm-resnet34-transfer.pth'\n",
        "\n",
        "batch_size = 32"
      ],
      "execution_count": null,
      "outputs": []
    },
    {
      "cell_type": "code",
      "metadata": {
        "id": "VrHTNXWByO6x",
        "colab_type": "code",
        "colab": {}
      },
      "source": [
        "# offensive_train_path = '/content/drive/My Drive/content-moderation-model/train/offensive'\n",
        "# suggestive_train_path = '/content/drive/My Drive/content-moderation-model/train/suggestive'\n",
        "# neutral_train_path = '/content/drive/My Drive/content-moderation-model/train/neutral'\n",
        "# test_file_path = '/content/drive/My Drive/content-moderation-model/test'\n",
        "\n",
        "# save_file_name = 'cmm-resnet34-transfer-balanced.pt'\n",
        "# checkpoint_path = 'cmm-resnet34-transfer-balanced.pth'\n",
        "\n",
        "# batch_size = 32"
      ],
      "execution_count": null,
      "outputs": []
    },
    {
      "cell_type": "markdown",
      "metadata": {
        "id": "dI6P-C70S3Nl",
        "colab_type": "text"
      },
      "source": [
        "The following code block defines the pre-processing steps for each image file. First, we re-size the image to 256x256px, and then take a center crop with the size 224x224px, since the Resnet model architecture requires a 224x224px image input. Finally, we transform the images into tensors with 3 color channels and RGB values for each pixel."
      ]
    },
    {
      "cell_type": "code",
      "metadata": {
        "id": "Q5AERWbcwcPJ",
        "colab_type": "code",
        "colab": {}
      },
      "source": [
        "preprocess = transforms.Compose([\n",
        "                         transforms.Resize(256),\n",
        "                         transforms.CenterCrop(224),\n",
        "                         transforms.ToTensor(),\n",
        "                         transforms.Normalize(mean=[0.485, 0.456, 0.406], std=[0.229, 0.224, 0.225])\n",
        "])"
      ],
      "execution_count": null,
      "outputs": []
    },
    {
      "cell_type": "code",
      "metadata": {
        "id": "bx3-SfV59z5S",
        "colab_type": "code",
        "colab": {}
      },
      "source": [
        "train_data = ImageFolder(train_file_path, transform = preprocess)\n",
        "test_data = ImageFolder(test_file_path, transform = preprocess)"
      ],
      "execution_count": null,
      "outputs": []
    },
    {
      "cell_type": "code",
      "metadata": {
        "id": "BruQFWnp0wVX",
        "colab_type": "code",
        "colab": {}
      },
      "source": [
        "# offensive_train_data = ImageFolder(offensive_train_path, transform=preprocess)\n",
        "# suggestive_train_data = ImageFolder(suggestive_train_path, transform=preprocess)\n",
        "# neutral_train_data = ImageFolder(neutral_train_path, transform=preprocess)\n",
        "# test_data = ImageFolder(test_file_path, transform=preprocess)"
      ],
      "execution_count": null,
      "outputs": []
    },
    {
      "cell_type": "markdown",
      "metadata": {
        "id": "AyipdVSnTz-k",
        "colab_type": "text"
      },
      "source": [
        "After reading in the train and test directories into ImageFolder objects, we split the training folder into training and validation sets. In this case, we set aside 10% of our training data to use in our validation loop."
      ]
    },
    {
      "cell_type": "code",
      "metadata": {
        "id": "1d5TQhWH5AEm",
        "colab_type": "code",
        "colab": {}
      },
      "source": [
        "# create validation set using random_split method\n",
        "train_size = int(0.9 * len(train_data))\n",
        "val_size = len(train_data) - train_size\n",
        "train_data, val_data = random_split(train_data, [train_size, val_size])"
      ],
      "execution_count": null,
      "outputs": []
    },
    {
      "cell_type": "markdown",
      "metadata": {
        "id": "_6in2LEcUJo1",
        "colab_type": "text"
      },
      "source": [
        "Now, we check to see if our pre-processing steps worked as expected...\n",
        "\n",
        "*Expected tensor size: [3, 224, 224]*"
      ]
    },
    {
      "cell_type": "code",
      "metadata": {
        "id": "PtcrmAuM-IYM",
        "colab_type": "code",
        "colab": {
          "base_uri": "https://localhost:8080/",
          "height": 425
        },
        "outputId": "187c34a7-243f-4565-837c-046b9110b758"
      },
      "source": [
        "img, label = train_data[0]\n",
        "print(img.shape, label)\n",
        "img"
      ],
      "execution_count": null,
      "outputs": [
        {
          "output_type": "stream",
          "text": [
            "torch.Size([3, 224, 224]) 0\n"
          ],
          "name": "stdout"
        },
        {
          "output_type": "execute_result",
          "data": {
            "text/plain": [
              "tensor([[[-0.5424, -0.6452, -0.6281,  ..., -0.8335, -0.4226, -0.5767],\n",
              "         [-0.5767, -0.6281, -0.6281,  ..., -0.5253,  0.0227, -0.2684],\n",
              "         [-0.5938, -0.5767, -0.6623,  ...,  0.0056,  0.2967, -0.0458],\n",
              "         ...,\n",
              "         [ 1.7523,  1.6838,  1.5468,  ..., -0.8164, -0.9020, -0.6623],\n",
              "         [ 1.5468,  1.5468,  1.5639,  ...,  0.3309,  0.0912,  0.2282],\n",
              "         [ 0.9988,  0.8961,  1.5468,  ...,  1.2043,  0.9646,  0.8104]],\n",
              "\n",
              "        [[ 0.1702,  0.0651,  0.0651,  ..., -0.2850,  0.2402,  0.3978],\n",
              "         [ 0.1001,  0.0301,  0.0301,  ...,  0.1702,  0.8004,  0.7654],\n",
              "         [ 0.0476,  0.0651, -0.0224,  ...,  0.7479,  1.0980,  0.9055],\n",
              "         ...,\n",
              "         [ 2.0084,  1.9734,  1.8508,  ..., -0.1800, -0.1975,  0.1702],\n",
              "         [ 1.9209,  1.9384,  1.8859,  ...,  0.9230,  0.7654,  1.0630],\n",
              "         [ 1.5357,  1.4132,  1.9034,  ...,  1.7633,  1.6232,  1.5882]],\n",
              "\n",
              "        [[ 1.0539,  0.9494,  0.9494,  ...,  0.3219,  0.8971,  1.0888],\n",
              "         [ 0.9668,  0.9145,  0.9494,  ...,  0.7751,  1.4374,  1.4374],\n",
              "         [ 0.9145,  0.9319,  0.8797,  ...,  1.3154,  1.6640,  1.5594],\n",
              "         ...,\n",
              "         [ 2.4308,  2.3611,  2.3088,  ...,  0.7751,  0.6879,  1.0888],\n",
              "         [ 2.4134,  2.4308,  2.4134,  ...,  1.5594,  1.3502,  1.6117],\n",
              "         [ 2.1346,  2.0125,  2.4657,  ...,  2.2217,  2.0997,  2.1520]]])"
            ]
          },
          "metadata": {
            "tags": []
          },
          "execution_count": 12
        }
      ]
    },
    {
      "cell_type": "markdown",
      "metadata": {
        "id": "jiYguxkoUQsp",
        "colab_type": "text"
      },
      "source": [
        "...and if all our image files were read into the notebook.\n",
        "\n",
        "*Expected output:*<br>\n",
        "*Number of training images:  83699*<br>\n",
        "*Number of validation images:  9300*<br>\n",
        "*Number of test images:  6000*"
      ]
    },
    {
      "cell_type": "code",
      "metadata": {
        "id": "mTHkCS9a_Y4S",
        "colab_type": "code",
        "colab": {
          "base_uri": "https://localhost:8080/",
          "height": 68
        },
        "outputId": "5d676089-dc0f-4a6c-e00e-c07af9ffcbc5"
      },
      "source": [
        "print(\"Number of training images: \", len(train_data))\n",
        "print(\"Number of validation images: \", len(val_data))\n",
        "print(\"Number of test images: \", len(test_data))"
      ],
      "execution_count": null,
      "outputs": [
        {
          "output_type": "stream",
          "text": [
            "Number of training images:  83699\n",
            "Number of validation images:  9300\n",
            "Number of test images:  6000\n"
          ],
          "name": "stdout"
        }
      ]
    },
    {
      "cell_type": "code",
      "metadata": {
        "id": "FW-htPN3_2pV",
        "colab_type": "code",
        "colab": {
          "base_uri": "https://localhost:8080/",
          "height": 408
        },
        "outputId": "f55b2c11-b7da-499b-fe23-e1832f503aa9"
      },
      "source": [
        "for image, label in train_data:\n",
        "  print(image, label)\n",
        "  break"
      ],
      "execution_count": null,
      "outputs": [
        {
          "output_type": "stream",
          "text": [
            "tensor([[[-0.5424, -0.6452, -0.6281,  ..., -0.8335, -0.4226, -0.5767],\n",
            "         [-0.5767, -0.6281, -0.6281,  ..., -0.5253,  0.0227, -0.2684],\n",
            "         [-0.5938, -0.5767, -0.6623,  ...,  0.0056,  0.2967, -0.0458],\n",
            "         ...,\n",
            "         [ 1.7523,  1.6838,  1.5468,  ..., -0.8164, -0.9020, -0.6623],\n",
            "         [ 1.5468,  1.5468,  1.5639,  ...,  0.3309,  0.0912,  0.2282],\n",
            "         [ 0.9988,  0.8961,  1.5468,  ...,  1.2043,  0.9646,  0.8104]],\n",
            "\n",
            "        [[ 0.1702,  0.0651,  0.0651,  ..., -0.2850,  0.2402,  0.3978],\n",
            "         [ 0.1001,  0.0301,  0.0301,  ...,  0.1702,  0.8004,  0.7654],\n",
            "         [ 0.0476,  0.0651, -0.0224,  ...,  0.7479,  1.0980,  0.9055],\n",
            "         ...,\n",
            "         [ 2.0084,  1.9734,  1.8508,  ..., -0.1800, -0.1975,  0.1702],\n",
            "         [ 1.9209,  1.9384,  1.8859,  ...,  0.9230,  0.7654,  1.0630],\n",
            "         [ 1.5357,  1.4132,  1.9034,  ...,  1.7633,  1.6232,  1.5882]],\n",
            "\n",
            "        [[ 1.0539,  0.9494,  0.9494,  ...,  0.3219,  0.8971,  1.0888],\n",
            "         [ 0.9668,  0.9145,  0.9494,  ...,  0.7751,  1.4374,  1.4374],\n",
            "         [ 0.9145,  0.9319,  0.8797,  ...,  1.3154,  1.6640,  1.5594],\n",
            "         ...,\n",
            "         [ 2.4308,  2.3611,  2.3088,  ...,  0.7751,  0.6879,  1.0888],\n",
            "         [ 2.4134,  2.4308,  2.4134,  ...,  1.5594,  1.3502,  1.6117],\n",
            "         [ 2.1346,  2.0125,  2.4657,  ...,  2.2217,  2.0997,  2.1520]]]) 0\n"
          ],
          "name": "stdout"
        }
      ]
    },
    {
      "cell_type": "markdown",
      "metadata": {
        "id": "mGEpVLBIVIPa",
        "colab_type": "text"
      },
      "source": [
        "Now, we define a *show_example* function that allows us to visualize individual image files and display its label. "
      ]
    },
    {
      "cell_type": "code",
      "metadata": {
        "id": "bG5rEgkUHItm",
        "colab_type": "code",
        "colab": {}
      },
      "source": [
        "# function to display images in dataset \n",
        "def show_example(img, label):\n",
        "    print('Label: ', test_data.classes[label], \"(\"+str(label)+\")\")\n",
        "    plt.imshow(img.permute(1, 2, 0))"
      ],
      "execution_count": null,
      "outputs": []
    },
    {
      "cell_type": "code",
      "metadata": {
        "id": "pWTyhmzGHZDA",
        "colab_type": "code",
        "colab": {
          "base_uri": "https://localhost:8080/",
          "height": 308
        },
        "outputId": "6382da47-c522-43b8-bd1d-13d217c9ba82"
      },
      "source": [
        "show_example(*train_data[100])"
      ],
      "execution_count": null,
      "outputs": [
        {
          "output_type": "stream",
          "text": [
            "Clipping input data to the valid range for imshow with RGB data ([0..1] for floats or [0..255] for integers).\n"
          ],
          "name": "stderr"
        },
        {
          "output_type": "stream",
          "text": [
            "Label:  neutral (0)\n"
          ],
          "name": "stdout"
        },
        {
          "output_type": "display_data",
          "data": {
            "image/png": "[encoded data removed]",
            "text/plain": [
              "<Figure size 432x288 with 1 Axes>"
            ]
          },
          "metadata": {
            "tags": [],
            "needs_background": "light"
          }
        }
      ]
    },
    {
      "cell_type": "code",
      "metadata": {
        "id": "cMHXkmqFHobS",
        "colab_type": "code",
        "colab": {
          "base_uri": "https://localhost:8080/",
          "height": 308
        },
        "outputId": "d5ca11d4-b6d9-44f5-fbc2-c5de2a8ea6f2"
      },
      "source": [
        "show_example(*train_data[67897])"
      ],
      "execution_count": null,
      "outputs": [
        {
          "output_type": "stream",
          "text": [
            "Clipping input data to the valid range for imshow with RGB data ([0..1] for floats or [0..255] for integers).\n"
          ],
          "name": "stderr"
        },
        {
          "output_type": "stream",
          "text": [
            "Label:  neutral (0)\n"
          ],
          "name": "stdout"
        },
        {
          "output_type": "display_data",
          "data": {
            "image/png": "[encoded data removed]",
            "text/plain": [
              "<Figure size 432x288 with 1 Axes>"
            ]
          },
          "metadata": {
            "tags": [],
            "needs_background": "light"
          }
        }
      ]
    },
    {
      "cell_type": "markdown",
      "metadata": {
        "id": "fmsBBaeoVjDw",
        "colab_type": "text"
      },
      "source": [
        "Finally, we convert our ImageFolder objects to Dataloader objects for use in our training, validation, and testing loops. "
      ]
    },
    {
      "cell_type": "code",
      "metadata": {
        "id": "lrMf62rhH1Mk",
        "colab_type": "code",
        "colab": {}
      },
      "source": [
        "# add shuffle back in when training over entire dataset\n",
        "num_train_samples = 10000\n",
        "train_sample = np.random.randint(0,77360,num_train_samples)\n",
        "# val_sample = np.random.randint(0,8596,num_samples)\n",
        "# test_sample = np.random.randint(0,6000,num_samples)\n",
        "# sampler=sampler.SubsetRandomSampler(train_sample)\n",
        "dataloaders = {\n",
        "    'train': DataLoader(train_data, batch_size=batch_size, shuffle=True, num_workers=2),\n",
        "    'validation': DataLoader(val_data, batch_size=batch_size, shuffle=True, num_workers=2),\n",
        "    'test': DataLoader(test_data, batch_size=batch_size, shuffle=True, num_workers=2)\n",
        "}"
      ],
      "execution_count": null,
      "outputs": []
    },
    {
      "cell_type": "markdown",
      "metadata": {
        "id": "oBBInQf3WkC0",
        "colab_type": "text"
      },
      "source": [
        "# Setting Up Model Architecture \n",
        "\n",
        "In this section, we read in a pre-trained model to utilize transfer learning to **hopefully** speed up our training times and increase our accuracy measures. Additionally, we define our training, validation, and testing loops in our *train* and *evaluate* functions. "
      ]
    },
    {
      "cell_type": "markdown",
      "metadata": {
        "id": "IE-I_bgAXThW",
        "colab_type": "text"
      },
      "source": [
        "In *get_pretrained_model*, we pass in the model architecture we wish to use (functionality outlined in the docstring), freeze all the convolutional layers, and create custom fully-connected layers to reach our desired output of a size [1, 3] tensor that reflects the probability that a given image is each of the three outlined classes: offensive, suggestive, or neutral."
      ]
    },
    {
      "cell_type": "code",
      "metadata": {
        "id": "9SRwcj11fvUS",
        "colab_type": "code",
        "colab": {}
      },
      "source": [
        "n_classes = len(test_data.classes)\n",
        "\n",
        "def get_pretrained_model(model_name):\n",
        "  \"\"\"Retrieve pre-trained model from torchvision.\n",
        "\n",
        "    Params\n",
        "    ------------\n",
        "    model_name (str): name of pre-trained model (functionality for Resnet-50,\n",
        "    vgg-16, and Resnet-34 model architectures)\n",
        "\n",
        "    Return\n",
        "    ------------\n",
        "    PyTorch model\n",
        "  \"\"\"\n",
        "\n",
        "  if model_name == 'resnet50':\n",
        "    model = models.resnet50(pretrained=True)\n",
        "\n",
        "    for param in model.parameters():\n",
        "      param.requires_grad = False\n",
        "    \n",
        "    n_inputs = model.fc.in_features\n",
        "    model.fc = nn.Sequential(\n",
        "        nn.Linear(n_inputs, 256),\n",
        "        nn.ReLU(),\n",
        "        nn.Dropout(0.2),\n",
        "        nn.Linear(256, n_classes),\n",
        "        nn.LogSoftmax(dim=1)\n",
        "    )\n",
        "  \n",
        "  elif model_name == 'vgg16':\n",
        "    model = models.vgg16(pretrained=True)\n",
        "\n",
        "    for param in model.parameters():\n",
        "      param.requires_grad = False\n",
        "    \n",
        "    n_inputs = model.classifier[6].in_features\n",
        "    model.classifier[6] = nn.Sequential(\n",
        "        nn.Linear(n_inputs, 256),\n",
        "        nn.ReLU(),\n",
        "        nn.Dropout(0.2),\n",
        "        nn.Linear(256, n_classes),\n",
        "        nn.LogSoftmax(dim=1)\n",
        "    )\n",
        "  \n",
        "  elif model_name == 'resnet34':\n",
        "    model = models.resnet34(pretrained=True)\n",
        "\n",
        "    for param in model.parameters():\n",
        "      param.requires_grad = False\n",
        "    \n",
        "    n_inputs = model.fc.in_features\n",
        "    model.fc = nn.Sequential(\n",
        "        nn.Linear(n_inputs, 256),\n",
        "        nn.ReLU(),\n",
        "        nn.Dropout(0.2),\n",
        "        nn.Linear(256, n_classes),\n",
        "        nn.LogSoftmax(dim=1)\n",
        "    )\n",
        "\n",
        "  model.to('cuda')\n",
        "  return model"
      ],
      "execution_count": null,
      "outputs": []
    },
    {
      "cell_type": "markdown",
      "metadata": {
        "id": "IKps4MSdZKea",
        "colab_type": "text"
      },
      "source": [
        "Looking at the summary of our Resnet-34 model, we see all of the initialized convolutional layers, as well as our custom layers that follow. "
      ]
    },
    {
      "cell_type": "code",
      "metadata": {
        "id": "SZkA00qcj4qN",
        "colab_type": "code",
        "colab": {
          "base_uri": "https://localhost:8080/",
          "height": 1000,
          "referenced_widgets": [
            "4b21d95bd79e43cdb83b275d1da3af4e",
            "61f1551351c04a279a16a4af4b6b114b",
            "0c05a9554e174070bfac5ecd28bdc997",
            "e6e5bdc9f4c24f2d99537f770c91e469",
            "2b98284fa42a4e62bd91ef673703888b",
            "dc8eac15a47548a593a759ad0e9937a4",
            "c3dee5684a7b4f33934120abdc16f1a9",
            "478a20c3f26c4c6884e72976f6b06dc1"
          ]
        },
        "outputId": "bbd05492-2ceb-43ce-8a87-12fe9f7135e7"
      },
      "source": [
        "model = get_pretrained_model('resnet34')\n",
        "summary(model, input_size=(3, 224, 224), batch_size=batch_size, device='cuda')"
      ],
      "execution_count": null,
      "outputs": [
        {
          "output_type": "stream",
          "text": [
            "Downloading: \"https://download.pytorch.org/models/resnet34-333f7ec4.pth\" to /root/.cache/torch/checkpoints/resnet34-333f7ec4.pth\n"
          ],
          "name": "stderr"
        },
        {
          "output_type": "display_data",
          "data": {
            "application/vnd.jupyter.widget-view+json": {
              "model_id": "4b21d95bd79e43cdb83b275d1da3af4e",
              "version_minor": 0,
              "version_major": 2
            },
            "text/plain": [
              "HBox(children=(FloatProgress(value=0.0, max=87306240.0), HTML(value='')))"
            ]
          },
          "metadata": {
            "tags": []
          }
        },
        {
          "output_type": "stream",
          "text": [
            "\n",
            "----------------------------------------------------------------\n",
            "        Layer (type)               Output Shape         Param #\n",
            "================================================================\n",
            "            Conv2d-1         [32, 64, 112, 112]           9,408\n",
            "       BatchNorm2d-2         [32, 64, 112, 112]             128\n",
            "              ReLU-3         [32, 64, 112, 112]               0\n",
            "         MaxPool2d-4           [32, 64, 56, 56]               0\n",
            "            Conv2d-5           [32, 64, 56, 56]          36,864\n",
            "       BatchNorm2d-6           [32, 64, 56, 56]             128\n",
            "              ReLU-7           [32, 64, 56, 56]               0\n",
            "            Conv2d-8           [32, 64, 56, 56]          36,864\n",
            "       BatchNorm2d-9           [32, 64, 56, 56]             128\n",
            "             ReLU-10           [32, 64, 56, 56]               0\n",
            "       BasicBlock-11           [32, 64, 56, 56]               0\n",
            "           Conv2d-12           [32, 64, 56, 56]          36,864\n",
            "      BatchNorm2d-13           [32, 64, 56, 56]             128\n",
            "             ReLU-14           [32, 64, 56, 56]               0\n",
            "           Conv2d-15           [32, 64, 56, 56]          36,864\n",
            "      BatchNorm2d-16           [32, 64, 56, 56]             128\n",
            "             ReLU-17           [32, 64, 56, 56]               0\n",
            "       BasicBlock-18           [32, 64, 56, 56]               0\n",
            "           Conv2d-19           [32, 64, 56, 56]          36,864\n",
            "      BatchNorm2d-20           [32, 64, 56, 56]             128\n",
            "             ReLU-21           [32, 64, 56, 56]               0\n",
            "           Conv2d-22           [32, 64, 56, 56]          36,864\n",
            "      BatchNorm2d-23           [32, 64, 56, 56]             128\n",
            "             ReLU-24           [32, 64, 56, 56]               0\n",
            "       BasicBlock-25           [32, 64, 56, 56]               0\n",
            "           Conv2d-26          [32, 128, 28, 28]          73,728\n",
            "      BatchNorm2d-27          [32, 128, 28, 28]             256\n",
            "             ReLU-28          [32, 128, 28, 28]               0\n",
            "           Conv2d-29          [32, 128, 28, 28]         147,456\n",
            "      BatchNorm2d-30          [32, 128, 28, 28]             256\n",
            "           Conv2d-31          [32, 128, 28, 28]           8,192\n",
            "      BatchNorm2d-32          [32, 128, 28, 28]             256\n",
            "             ReLU-33          [32, 128, 28, 28]               0\n",
            "       BasicBlock-34          [32, 128, 28, 28]               0\n",
            "           Conv2d-35          [32, 128, 28, 28]         147,456\n",
            "      BatchNorm2d-36          [32, 128, 28, 28]             256\n",
            "             ReLU-37          [32, 128, 28, 28]               0\n",
            "           Conv2d-38          [32, 128, 28, 28]         147,456\n",
            "      BatchNorm2d-39          [32, 128, 28, 28]             256\n",
            "             ReLU-40          [32, 128, 28, 28]               0\n",
            "       BasicBlock-41          [32, 128, 28, 28]               0\n",
            "           Conv2d-42          [32, 128, 28, 28]         147,456\n",
            "      BatchNorm2d-43          [32, 128, 28, 28]             256\n",
            "             ReLU-44          [32, 128, 28, 28]               0\n",
            "           Conv2d-45          [32, 128, 28, 28]         147,456\n",
            "      BatchNorm2d-46          [32, 128, 28, 28]             256\n",
            "             ReLU-47          [32, 128, 28, 28]               0\n",
            "       BasicBlock-48          [32, 128, 28, 28]               0\n",
            "           Conv2d-49          [32, 128, 28, 28]         147,456\n",
            "      BatchNorm2d-50          [32, 128, 28, 28]             256\n",
            "             ReLU-51          [32, 128, 28, 28]               0\n",
            "           Conv2d-52          [32, 128, 28, 28]         147,456\n",
            "      BatchNorm2d-53          [32, 128, 28, 28]             256\n",
            "             ReLU-54          [32, 128, 28, 28]               0\n",
            "       BasicBlock-55          [32, 128, 28, 28]               0\n",
            "           Conv2d-56          [32, 256, 14, 14]         294,912\n",
            "      BatchNorm2d-57          [32, 256, 14, 14]             512\n",
            "             ReLU-58          [32, 256, 14, 14]               0\n",
            "           Conv2d-59          [32, 256, 14, 14]         589,824\n",
            "      BatchNorm2d-60          [32, 256, 14, 14]             512\n",
            "           Conv2d-61          [32, 256, 14, 14]          32,768\n",
            "      BatchNorm2d-62          [32, 256, 14, 14]             512\n",
            "             ReLU-63          [32, 256, 14, 14]               0\n",
            "       BasicBlock-64          [32, 256, 14, 14]               0\n",
            "           Conv2d-65          [32, 256, 14, 14]         589,824\n",
            "      BatchNorm2d-66          [32, 256, 14, 14]             512\n",
            "             ReLU-67          [32, 256, 14, 14]               0\n",
            "           Conv2d-68          [32, 256, 14, 14]         589,824\n",
            "      BatchNorm2d-69          [32, 256, 14, 14]             512\n",
            "             ReLU-70          [32, 256, 14, 14]               0\n",
            "       BasicBlock-71          [32, 256, 14, 14]               0\n",
            "           Conv2d-72          [32, 256, 14, 14]         589,824\n",
            "      BatchNorm2d-73          [32, 256, 14, 14]             512\n",
            "             ReLU-74          [32, 256, 14, 14]               0\n",
            "           Conv2d-75          [32, 256, 14, 14]         589,824\n",
            "      BatchNorm2d-76          [32, 256, 14, 14]             512\n",
            "             ReLU-77          [32, 256, 14, 14]               0\n",
            "       BasicBlock-78          [32, 256, 14, 14]               0\n",
            "           Conv2d-79          [32, 256, 14, 14]         589,824\n",
            "      BatchNorm2d-80          [32, 256, 14, 14]             512\n",
            "             ReLU-81          [32, 256, 14, 14]               0\n",
            "           Conv2d-82          [32, 256, 14, 14]         589,824\n",
            "      BatchNorm2d-83          [32, 256, 14, 14]             512\n",
            "             ReLU-84          [32, 256, 14, 14]               0\n",
            "       BasicBlock-85          [32, 256, 14, 14]               0\n",
            "           Conv2d-86          [32, 256, 14, 14]         589,824\n",
            "      BatchNorm2d-87          [32, 256, 14, 14]             512\n",
            "             ReLU-88          [32, 256, 14, 14]               0\n",
            "           Conv2d-89          [32, 256, 14, 14]         589,824\n",
            "      BatchNorm2d-90          [32, 256, 14, 14]             512\n",
            "             ReLU-91          [32, 256, 14, 14]               0\n",
            "       BasicBlock-92          [32, 256, 14, 14]               0\n",
            "           Conv2d-93          [32, 256, 14, 14]         589,824\n",
            "      BatchNorm2d-94          [32, 256, 14, 14]             512\n",
            "             ReLU-95          [32, 256, 14, 14]               0\n",
            "           Conv2d-96          [32, 256, 14, 14]         589,824\n",
            "      BatchNorm2d-97          [32, 256, 14, 14]             512\n",
            "             ReLU-98          [32, 256, 14, 14]               0\n",
            "       BasicBlock-99          [32, 256, 14, 14]               0\n",
            "          Conv2d-100            [32, 512, 7, 7]       1,179,648\n",
            "     BatchNorm2d-101            [32, 512, 7, 7]           1,024\n",
            "            ReLU-102            [32, 512, 7, 7]               0\n",
            "          Conv2d-103            [32, 512, 7, 7]       2,359,296\n",
            "     BatchNorm2d-104            [32, 512, 7, 7]           1,024\n",
            "          Conv2d-105            [32, 512, 7, 7]         131,072\n",
            "     BatchNorm2d-106            [32, 512, 7, 7]           1,024\n",
            "            ReLU-107            [32, 512, 7, 7]               0\n",
            "      BasicBlock-108            [32, 512, 7, 7]               0\n",
            "          Conv2d-109            [32, 512, 7, 7]       2,359,296\n",
            "     BatchNorm2d-110            [32, 512, 7, 7]           1,024\n",
            "            ReLU-111            [32, 512, 7, 7]               0\n",
            "          Conv2d-112            [32, 512, 7, 7]       2,359,296\n",
            "     BatchNorm2d-113            [32, 512, 7, 7]           1,024\n",
            "            ReLU-114            [32, 512, 7, 7]               0\n",
            "      BasicBlock-115            [32, 512, 7, 7]               0\n",
            "          Conv2d-116            [32, 512, 7, 7]       2,359,296\n",
            "     BatchNorm2d-117            [32, 512, 7, 7]           1,024\n",
            "            ReLU-118            [32, 512, 7, 7]               0\n",
            "          Conv2d-119            [32, 512, 7, 7]       2,359,296\n",
            "     BatchNorm2d-120            [32, 512, 7, 7]           1,024\n",
            "            ReLU-121            [32, 512, 7, 7]               0\n",
            "      BasicBlock-122            [32, 512, 7, 7]               0\n",
            "AdaptiveAvgPool2d-123            [32, 512, 1, 1]               0\n",
            "          Linear-124                  [32, 256]         131,328\n",
            "            ReLU-125                  [32, 256]               0\n",
            "         Dropout-126                  [32, 256]               0\n",
            "          Linear-127                    [32, 3]             771\n",
            "      LogSoftmax-128                    [32, 3]               0\n",
            "================================================================\n",
            "Total params: 21,416,771\n",
            "Trainable params: 132,099\n",
            "Non-trainable params: 21,284,672\n",
            "----------------------------------------------------------------\n",
            "Input size (MB): 18.38\n",
            "Forward/backward pass size (MB): 3081.19\n",
            "Params size (MB): 81.70\n",
            "Estimated Total Size (MB): 3181.26\n",
            "----------------------------------------------------------------\n"
          ],
          "name": "stdout"
        }
      ]
    },
    {
      "cell_type": "code",
      "metadata": {
        "id": "ZUNb5sOf7xps",
        "colab_type": "code",
        "colab": {
          "base_uri": "https://localhost:8080/",
          "height": 136
        },
        "outputId": "21b2e01c-b8ae-4dcc-fbd1-cdcfd779dab6"
      },
      "source": [
        "print(model.fc)"
      ],
      "execution_count": null,
      "outputs": [
        {
          "output_type": "stream",
          "text": [
            "Sequential(\n",
            "  (0): Linear(in_features=512, out_features=256, bias=True)\n",
            "  (1): ReLU()\n",
            "  (2): Dropout(p=0.2, inplace=False)\n",
            "  (3): Linear(in_features=256, out_features=3, bias=True)\n",
            "  (4): LogSoftmax()\n",
            ")\n"
          ],
          "name": "stdout"
        }
      ]
    },
    {
      "cell_type": "code",
      "metadata": {
        "id": "wYN4I9I-mWMm",
        "colab_type": "code",
        "colab": {
          "base_uri": "https://localhost:8080/",
          "height": 34
        },
        "outputId": "73b120f5-f645-4e35-b399-689a1e1553ff"
      },
      "source": [
        "model.class_to_idx = test_data.class_to_idx\n",
        "model.idx_to_class = {\n",
        "    idx: class_\n",
        "    for class_, idx in model.class_to_idx.items()\n",
        "}\n",
        "\n",
        "list(model.idx_to_class.items())"
      ],
      "execution_count": null,
      "outputs": [
        {
          "output_type": "execute_result",
          "data": {
            "text/plain": [
              "[(0, 'neutral'), (1, 'offensive'), (2, 'suggestive')]"
            ]
          },
          "metadata": {
            "tags": []
          },
          "execution_count": 22
        }
      ]
    },
    {
      "cell_type": "code",
      "metadata": {
        "id": "ttaBxNuswFlV",
        "colab_type": "code",
        "colab": {}
      },
      "source": [
        "criterion = nn.NLLLoss()\n",
        "optimizer = optim.Adam(model.parameters())"
      ],
      "execution_count": null,
      "outputs": []
    },
    {
      "cell_type": "code",
      "metadata": {
        "id": "rvPi-jb94gaU",
        "colab_type": "code",
        "colab": {
          "base_uri": "https://localhost:8080/",
          "height": 85
        },
        "outputId": "e4d5fd91-d50f-4a9d-9ecb-bd49945ed642"
      },
      "source": [
        "for p in optimizer.param_groups[0]['params']:\n",
        "    if p.requires_grad:\n",
        "        print(p.shape)"
      ],
      "execution_count": null,
      "outputs": [
        {
          "output_type": "stream",
          "text": [
            "torch.Size([256, 512])\n",
            "torch.Size([256])\n",
            "torch.Size([3, 256])\n",
            "torch.Size([3])\n"
          ],
          "name": "stdout"
        }
      ]
    },
    {
      "cell_type": "code",
      "metadata": {
        "id": "0ZEwJEfy3yGt",
        "colab_type": "code",
        "colab": {}
      },
      "source": [
        "def train(model,\n",
        "          criterion,\n",
        "          optimizer,\n",
        "          train_loader,\n",
        "          val_loader,\n",
        "          save_file_name,\n",
        "          max_epochs_stop=5,\n",
        "          n_epochs=20,\n",
        "          print_every=1,\n",
        "          num_train_samples=50):\n",
        "  \n",
        "  epochs_no_improve = 0\n",
        "  min_valid_loss = np.Inf\n",
        "\n",
        "  max_val_acc = 0\n",
        "  history = []\n",
        "\n",
        "  overall_start = timer()\n",
        "\n",
        "  for epoch in range(n_epochs):\n",
        "\n",
        "    train_accuracy = 0\n",
        "    validation_accuracy = 0\n",
        "\n",
        "    train_loss = 0\n",
        "    validation_loss = 0\n",
        "\n",
        "    model.train()\n",
        "    start = timer()\n",
        "\n",
        "    for step, (data, label) in enumerate(train_loader):\n",
        "      # move image and corresponding label to GPU for training\n",
        "      data, label = data.cuda(), label.cuda()\n",
        "\n",
        "      # clear gradients\n",
        "      optimizer.zero_grad()\n",
        "      # generate predicted label\n",
        "      output = model(data)\n",
        "      # print(\"Labels: \", label)\n",
        "\n",
        "      # backpropogation \n",
        "      loss = criterion(output, label)\n",
        "      loss.backward()\n",
        "\n",
        "      # adjust weights and biases \n",
        "      optimizer.step()\n",
        "\n",
        "      train_loss += loss.item() * data.size(0)\n",
        "\n",
        "      # Calculate accuracy using NLL loss function \n",
        "      _, pred = torch.max(output, dim=1)\n",
        "      # print(\"Predictions: \", pred)\n",
        "      correct_tensor = pred.eq(label.data.view_as(pred))\n",
        "      # print(\"Correct tensor: \", correct_tensor)\n",
        "      accuracy = torch.mean(correct_tensor.type(torch.FloatTensor))\n",
        "      # print(\"Training accuracy: \", accuracy)\n",
        "      train_accuracy += accuracy.item() * data.size(0)\n",
        "\n",
        "    print(f'Epoch: {epoch}\\t{100 * (step + 1) / len(train_loader):.2f}% complete. {timer() - start:.2f} seconds elapsed in epoch.')\n",
        "      \n",
        "    # start validation step after training loops completion\n",
        "\n",
        "    # model.epochs += 1\n",
        "\n",
        "    with torch.no_grad():\n",
        "      model.eval()\n",
        "\n",
        "      for step, (data, label) in enumerate(val_loader):\n",
        "        # move image and corresponding label to GPU for training\n",
        "        data, label = data.cuda(), label.cuda()\n",
        "\n",
        "        output = model(data)\n",
        "        loss = criterion(output, label)\n",
        "        validation_loss += loss.item() * data.size(0)\n",
        "\n",
        "        # Calculate accuracy using NLL loss function\n",
        "        # print(\"Output from model: \", output)\n",
        "        _, pred = torch.max(output, dim=1)\n",
        "        correct_tensor = pred.eq(label.data.view_as(pred))\n",
        "        # print(\"Predicted label: \", pred)\n",
        "        # print(\"Actual label: \", label)\n",
        "        # print(correct_tensor)\n",
        "        accuracy = torch.mean(correct_tensor.type(torch.FloatTensor))\n",
        "        validation_accuracy += accuracy.item() * data.size(0)\n",
        "\n",
        "      # Calculate average training and validation losses, accuracies\n",
        "      train_loss = train_loss / len(train_loader.dataset)\n",
        "      validation_loss = validation_loss / len(val_loader.dataset)\n",
        "      train_accuracy = train_accuracy / len(train_loader.dataset)\n",
        "      validation_accuracy = validation_accuracy / len(val_loader.dataset)\n",
        "      # train_loss = train_loss / num_train_samples\n",
        "      # validation_loss = validation_loss / num_samples\n",
        "      # train_accuracy = train_accuracy / num_train_samples\n",
        "      # validation_accuracy = validation_accuracy / num_samples\n",
        "\n",
        "      history.append([train_loss, validation_loss, train_accuracy, validation_accuracy])\n",
        "\n",
        "      if (epoch + 1) % print_every == 0:\n",
        "        print(\n",
        "              f'\\nEpoch: {epoch} \\tTraining Loss: {train_loss:.4f} \\tValidation Loss: {validation_loss:.4f}'\n",
        "              )\n",
        "        print(\n",
        "              f'\\t\\tTraining Accuracy: {100 * train_accuracy:.2f}%\\t Validation Accuracy: {100 * validation_accuracy:.2f}%'\n",
        "              )\n",
        "      \n",
        "      if validation_loss < min_valid_loss:\n",
        "        # save model\n",
        "        torch.save(model.state_dict(), save_file_name)\n",
        "        # keep track of model improvements\n",
        "        epochs_no_improve = 0\n",
        "        min_valid_loss = validation_loss\n",
        "        max_val_acc = validation_accuracy\n",
        "        best_epoch = epoch\n",
        "      \n",
        "      else:\n",
        "        epochs_no_improve += 1\n",
        "        if epochs_no_improve >= max_epochs_stop:\n",
        "          print(\n",
        "                f'\\nEarly Stopping! Total epochs: {epoch}. Best epoch: {best_epoch} with loss: {min_valid_loss:.2f} and acc: {100 * max_val_acc:.2f}%'\n",
        "                )\n",
        "          total_time = timer() - overall_start\n",
        "          print(\n",
        "                f'{total_time:.2f} total seconds elapsed. {total_time / (epoch+1):.2f} seconds per epoch.'\n",
        "                )\n",
        "          \n",
        "          model.load_state_dict(torch.load(save_file_name))\n",
        "          model.optimizer = optimizer\n",
        "\n",
        "          history = pd.DataFrame(\n",
        "                            history,\n",
        "                            columns=[\n",
        "                                'train_loss', 'valid_loss', 'train_acc',\n",
        "                                'valid_acc'\n",
        "                            ])\n",
        "          return model, history\n",
        "\n",
        "  model.optimizer = optimizer\n",
        "  total_time = timer() - overall_start\n",
        "  print(\n",
        "        f'\\nBest epoch: {best_epoch} with loss: {min_valid_loss:.2f} and acc: {100 * max_val_acc:.2f}%'\n",
        "        )\n",
        "  print(\n",
        "        f'{total_time:.2f} total seconds elapsed. {total_time / (epoch):.2f} seconds per epoch.'\n",
        "        )\n",
        "    # Format history\n",
        "  history = pd.DataFrame(\n",
        "                    history,\n",
        "                    columns=['train_loss', 'valid_loss', 'train_acc', 'valid_acc'])\n",
        "  return model, history"
      ],
      "execution_count": null,
      "outputs": []
    },
    {
      "cell_type": "code",
      "metadata": {
        "id": "cZBAUc2u2D-d",
        "colab_type": "code",
        "colab": {}
      },
      "source": [
        "def save_checkpoint(model, path):\n",
        "  \"\"\"Saves all relevant model information to specified path.\n",
        "\n",
        "    Params\n",
        "    ------------\n",
        "    model (PyTorch model): trained PyTorch model object, output from train() function\n",
        "    path (str): name of .pth file, used for saving model and its attributes\n",
        "\n",
        "    Return\n",
        "    ------------\n",
        "    none, saves model to specified path\n",
        "  \"\"\"\n",
        "  # basic model details \n",
        "  checkpoint = {\n",
        "    'class_to_idx': model.class_to_idx,\n",
        "    'idx_to_class': model.idx_to_class,\n",
        "    # 'epochs': model.epochs,\n",
        "    }\n",
        "  \n",
        "  # saving model layers and weights\n",
        "  checkpoint['fc'] = model.fc\n",
        "  checkpoint['state_dict'] = model.state_dict()\n",
        "\n",
        "  # saving model optimizer \n",
        "  checkpoint['optimizer'] = model.optimizer\n",
        "  checkpoint['optimizer_state_dict'] = model.optimizer.state_dict()\n",
        "\n",
        "  # save model to path\n",
        "  torch.save(checkpoint, path)"
      ],
      "execution_count": null,
      "outputs": []
    },
    {
      "cell_type": "code",
      "metadata": {
        "id": "A_1V1zgJ-rzY",
        "colab_type": "code",
        "colab": {}
      },
      "source": [
        "def load_checkpoint(path):\n",
        "  \"\"\"Loads all relevant model information from specified path.\n",
        "\n",
        "    Params\n",
        "    ------------\n",
        "    path (str): name of .pth file, used for saving model and its attributes\n",
        "\n",
        "    Return\n",
        "    ------------\n",
        "    none, saves model to specified path\n",
        "  \"\"\"\n",
        "\n",
        "  checkpoint = torch.load(path)\n",
        "  model = models.resnet34(pretrained=True)\n",
        "  # freeze weights on all convolutional layers\n",
        "  for param in model.parameters():\n",
        "    param.requires_grad=False\n",
        "  # add in fully-connected layers from checkpoint\n",
        "  model.fc = checkpoint['fc']\n",
        "  # add in other model attributes \n",
        "  model.class_to_idx = checkpoint['class_to_idx']\n",
        "  model.idx_to_class = checkpoint['idx_to_class']\n",
        "  # model.epochs = checkpoint['epochs']\n",
        "  # move model to GPU\n",
        "  model.to('cuda')\n",
        "  # initialize model optimizer from checkpoint\n",
        "  optimizer = checkpoint['optimizer']\n",
        "  optimizer.load_state_dict(checkpoint['optimizer_state_dict'])\n",
        "\n",
        "  return model, optimizer"
      ],
      "execution_count": null,
      "outputs": []
    },
    {
      "cell_type": "code",
      "metadata": {
        "id": "j6gzWaaNFZ4p",
        "colab_type": "code",
        "colab": {}
      },
      "source": [
        "def evaluate(model,\n",
        "             optimizer,\n",
        "             criterion,\n",
        "             test_loader,\n",
        "             num_samples=None):\n",
        "  \"\"\"Loads all relevant model information from specified path.\n",
        "\n",
        "    Params\n",
        "    ------------\n",
        "    path (str): name of .pth file, used for saving model and its attributes\n",
        "\n",
        "    Return\n",
        "    ------------\n",
        "    none, saves model to specified path\n",
        "  \"\"\"\n",
        "  test_loss = 0\n",
        "  test_accuracy = 0\n",
        "  # initialize dictionary to keep track of number of test samples of each class\n",
        "  total_samples_dict = {0: 0, 1: 0, 2: 0}\n",
        "  # initialize dictionary to keep track of number of correct predictions for each class\n",
        "  total_correct_dict = {0: 0, 1: 0, 2: 0}\n",
        "\n",
        "  model.eval()\n",
        "  with torch.no_grad():\n",
        "    for data, label in test_loader:\n",
        "      # move batch to gpu\n",
        "      data, label = data.to('cuda'), label.to('cuda')\n",
        "      # generate predicted labels from the model\n",
        "      out = model(data)\n",
        "      loss = criterion(out, label)\n",
        "      test_loss += loss.item() * data.size(0)\n",
        "\n",
        "      _, pred = torch.max(out, dim=1)\n",
        "\n",
        "      # update dictionaries to reflect total number of samples per class, total number of correct predictions per class\n",
        "      for i in range(len(pred)):\n",
        "        total_samples_dict[label[i].item()] += 1\n",
        "        if pred[i] - label[i] == 0:\n",
        "          total_correct_dict[label[i].item()] += 1\n",
        "\n",
        "      correct_tensor = pred.eq(label.data.view_as(pred))\n",
        "      accuracy = torch.mean(correct_tensor.type(torch.FloatTensor))\n",
        "      test_accuracy += accuracy.item() * data.size(0)\n",
        "    \n",
        "  # test_loss = test_loss / num_samples\n",
        "  # test_accuracy = test_accuracy / num_samples\n",
        "  test_loss = test_loss / len(test_loader.dataset)\n",
        "  test_accuracy = test_accuracy / len(test_loader.dataset)\n",
        "  print(\n",
        "        f'Testing Accuracy: {100 * test_accuracy:.2f}%\\t Testing Loss: {test_loss:.4f}'\n",
        "        )\n",
        "  print(\n",
        "      f\"Accuracy per class: \\n\\tNeutral: {100 * total_correct_dict[0] / total_samples_dict[0]:.2f}%\\tOffensive: {100 * total_correct_dict[1] / total_samples_dict[1]:.2f}%\\tSuggestive: {100 * total_correct_dict[2] / total_samples_dict[2]:.2f}%\"\n",
        "      )\n",
        "  print(\"Total samples dictionary: \", total_samples_dict)\n",
        "  print(\"Total correct dictionary: \", total_correct_dict)"
      ],
      "execution_count": null,
      "outputs": []
    },
    {
      "cell_type": "markdown",
      "metadata": {
        "id": "nNG9YKszsNl7",
        "colab_type": "text"
      },
      "source": [
        "# Training and Evaluation\n",
        "\n",
        "In this section, we use the functions defined in the prior section to train and evaluate our model. "
      ]
    },
    {
      "cell_type": "code",
      "metadata": {
        "id": "lMKou0tdJnXT",
        "colab_type": "code",
        "colab": {
          "base_uri": "https://localhost:8080/",
          "height": 343
        },
        "outputId": "c642c6fd-eeb6-4748-b0a9-e6efec7e770b"
      },
      "source": [
        "model, history = train(\n",
        "    model,\n",
        "    criterion,\n",
        "    optimizer,\n",
        "    dataloaders['train'],\n",
        "    dataloaders['validation'],\n",
        "    save_file_name=save_file_name,\n",
        "    max_epochs_stop=3,\n",
        "    n_epochs=30,\n",
        "    print_every=1,\n",
        "    num_train_samples=num_train_samples)"
      ],
      "execution_count": null,
      "outputs": [
        {
          "output_type": "stream",
          "text": [
            "/usr/local/lib/python3.6/dist-packages/PIL/TiffImagePlugin.py:788: UserWarning: Corrupt EXIF data.  Expecting to read 2 bytes but only got 0. \n",
            "  warnings.warn(str(msg))\n",
            "/usr/local/lib/python3.6/dist-packages/PIL/Image.py:2766: DecompressionBombWarning: Image size (97794746 pixels) exceeds limit of 89478485 pixels, could be decompression bomb DOS attack.\n",
            "  DecompressionBombWarning,\n"
          ],
          "name": "stderr"
        },
        {
          "output_type": "stream",
          "text": [
            "Epoch: 0\t100.00% complete. 31280.22 seconds elapsed in epoch.\n",
            "\n",
            "Epoch: 0 \tTraining Loss: 0.2798 \tValidation Loss: 0.2477\n",
            "\t\tTraining Accuracy: 89.24%\t Validation Accuracy: 90.23%\n"
          ],
          "name": "stdout"
        },
        {
          "output_type": "stream",
          "text": [
            "/usr/local/lib/python3.6/dist-packages/PIL/Image.py:2766: DecompressionBombWarning: Image size (97794746 pixels) exceeds limit of 89478485 pixels, could be decompression bomb DOS attack.\n",
            "  DecompressionBombWarning,\n",
            "/usr/local/lib/python3.6/dist-packages/PIL/TiffImagePlugin.py:788: UserWarning: Corrupt EXIF data.  Expecting to read 2 bytes but only got 0. \n",
            "  warnings.warn(str(msg))\n"
          ],
          "name": "stderr"
        },
        {
          "output_type": "stream",
          "text": [
            "Epoch: 1\t100.00% complete. 27016.38 seconds elapsed in epoch.\n",
            "\n",
            "Epoch: 1 \tTraining Loss: 0.2385 \tValidation Loss: 0.2090\n",
            "\t\tTraining Accuracy: 90.88%\t Validation Accuracy: 91.92%\n"
          ],
          "name": "stdout"
        },
        {
          "output_type": "stream",
          "text": [
            "/usr/local/lib/python3.6/dist-packages/PIL/TiffImagePlugin.py:788: UserWarning: Corrupt EXIF data.  Expecting to read 2 bytes but only got 0. \n",
            "  warnings.warn(str(msg))\n"
          ],
          "name": "stderr"
        }
      ]
    },
    {
      "cell_type": "code",
      "metadata": {
        "id": "Cn8bvnMQ1_tf",
        "colab_type": "code",
        "colab": {}
      },
      "source": [
        "plt.figure(figsize=(8, 6))\n",
        "for c in ['train_acc', 'valid_acc']:\n",
        "    plt.plot(\n",
        "        100 * history[c], label=c)\n",
        "plt.legend()\n",
        "plt.xlabel('Epoch')\n",
        "plt.ylabel('Average Accuracy')\n",
        "plt.title('Training and Validation Accuracy')"
      ],
      "execution_count": null,
      "outputs": []
    },
    {
      "cell_type": "code",
      "metadata": {
        "id": "OtL9W9GuG_XQ",
        "colab_type": "code",
        "colab": {}
      },
      "source": [
        "# save_checkpoint(model, path = checkpoint_path)"
      ],
      "execution_count": null,
      "outputs": []
    },
    {
      "cell_type": "code",
      "metadata": {
        "id": "D1SRcC5bNLCd",
        "colab_type": "code",
        "colab": {}
      },
      "source": [
        "# model, optimizer = load_checkpoint(path = checkpoint_path)"
      ],
      "execution_count": null,
      "outputs": []
    },
    {
      "cell_type": "code",
      "metadata": {
        "id": "ZlXaN64BMKjE",
        "colab_type": "code",
        "colab": {}
      },
      "source": [
        "evaluate(model, \n",
        "         optimizer, \n",
        "         criterion, \n",
        "         dataloaders['test'], \n",
        "         num_samples)"
      ],
      "execution_count": null,
      "outputs": []
    }
  ]
}